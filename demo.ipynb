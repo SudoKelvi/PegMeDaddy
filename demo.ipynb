{
 "cells": [
  {
   "cell_type": "code",
   "execution_count": 2,
   "metadata": {},
   "outputs": [
    {
     "name": "stdout",
     "output_type": "stream",
     "text": [
      "\n"
     ]
    }
   ],
   "source": [
    "\n",
    "import jupyter_cadquery\n",
    "\n",
    "from jupyter_cadquery import (\n",
    "    set_defaults, open_viewer,\n",
    ")\n",
    "\n",
    "set_defaults(\n",
    "    cad_width=640, \n",
    "    height=480,\n",
    "    theme=\"dark\",\n",
    "    default_color=\"#1ECBE1\",\n",
    "    transparent=False\n",
    ")\n",
    "\n",
    "open_viewer(\"CadQuery\")\n",
    "    \n",
    "print()\n"
   ]
  },
  {
   "cell_type": "code",
   "execution_count": null,
   "metadata": {},
   "outputs": [],
   "source": []
  },
  {
   "cell_type": "code",
   "execution_count": null,
   "metadata": {},
   "outputs": [],
   "source": []
  },
  {
   "cell_type": "code",
   "execution_count": null,
   "metadata": {},
   "outputs": [],
   "source": []
  },
  {
   "cell_type": "code",
   "execution_count": 4,
   "metadata": {},
   "outputs": [],
   "source": [
    "import itertools\n",
    "import cadquery as cq\n",
    "\n",
    "def frange(start, stop=None, step=None):\n",
    "    # if set start=0.0 and step = 1.0 if not specified\n",
    "    start = float(start)\n",
    "    if stop == None:\n",
    "        stop = start + 0.0\n",
    "        start = 0.0\n",
    "    if step == None:\n",
    "        step = 1.0\n",
    "\n",
    "    print(\"start = \", start, \"stop = \", stop, \"step = \", step)\n",
    "\n",
    "    count = 0\n",
    "    while True:\n",
    "        temp = float(start + count * step)\n",
    "        if step > 0 and temp >= stop:\n",
    "            break\n",
    "        elif step < 0 and temp <= stop:\n",
    "            break\n",
    "        yield temp\n",
    "        count += 1\n",
    "\n",
    "\n",
    "hole_dist = in2mm(1)\n",
    "hole_diameter = in2mm(1/8)\n",
    "\n",
    "width = hole_dist*10\n",
    "height = hole_dist*4\n",
    "thickness = 5\n",
    "fillet_rad = hole_diameter*2\n",
    "\n",
    "buffer = hole_dist*2\n",
    "\n",
    "nheight = height - buffer\n",
    "nwidth = width - buffer"
   ]
  },
  {
   "cell_type": "code",
   "execution_count": 20,
   "metadata": {},
   "outputs": [
    {
     "name": "stdout",
     "output_type": "stream",
     "text": [
      "start =  -101.6 stop =  102.6 step =  25.4\n",
      "start =  -25.4 stop =  26.4 step =  25.4\n"
     ]
    }
   ],
   "source": [
    "ypoints = frange(-nheight/2, nheight/2+1, hole_dist)\n",
    "xpoints = frange(-nwidth/2, nwidth/2+1, hole_dist)\n",
    "points = list(itertools.product(xpoints, ypoints))\n",
    "\n",
    "turtwig = cq.Sketch().rect(width, height).vertices().fillet(fillet_rad).reset().push(points).circle(hole_diameter, mode='s').clean().reset()\n",
    "# cq.Workplane(\"XY\").placeSketch(base)\n"
   ]
  },
  {
   "cell_type": "code",
   "execution_count": 21,
   "metadata": {},
   "outputs": [],
   "source": [
    "from cadquery import exporters\n",
    "\n",
    "turtwig = cq.Workplane(\"XY\").placeSketch(turtwig).extrude(thickness)\n",
    "exporters.export(turtwig, \"test.stl\")\n",
    "# turtwig.export"
   ]
  },
  {
   "cell_type": "code",
   "execution_count": 22,
   "metadata": {},
   "outputs": [
    {
     "name": "stdout",
     "output_type": "stream",
     "text": [
      "total 3588\n",
      "-rw-r--r-- 1 kelvin kelvin      92 Jun  5 17:39 README\n",
      "-rw-r--r-- 1 kelvin kelvin      86 Jun 11 15:28 env.yml\n",
      "-rw-r--r-- 1 kelvin kelvin    2834 Jun 11 17:44 turtwig.py\n",
      "-rw-r--r-- 1 kelvin kelvin   27656 Jun 11 17:48 test.dxf\n",
      "-rw-r--r-- 1 kelvin kelvin    6543 Jun 11 17:49 demo.ipynb\n",
      "-rw-r--r-- 1 kelvin kelvin 3602736 Jun 11 17:50 test.stl\n"
     ]
    }
   ],
   "source": [
    "ls -lrt"
   ]
  },
  {
   "cell_type": "code",
   "execution_count": null,
   "metadata": {},
   "outputs": [],
   "source": []
  }
 ],
 "metadata": {
  "interpreter": {
   "hash": "450107dd2a1754e58a0b5974d18b8f9f54c23f83c5443f188722b843ea8c9465"
  },
  "kernelspec": {
   "display_name": "Python 3 (ipykernel)",
   "language": "python",
   "name": "python3"
  },
  "language_info": {
   "codemirror_mode": {
    "name": "ipython",
    "version": 3
   },
   "file_extension": ".py",
   "mimetype": "text/x-python",
   "name": "python",
   "nbconvert_exporter": "python",
   "pygments_lexer": "ipython3",
   "version": "3.9.13"
  }
 },
 "nbformat": 4,
 "nbformat_minor": 4
}
